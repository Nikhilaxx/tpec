{
 "cells": [
  {
   "cell_type": "code",
   "execution_count": 7,
   "id": "31bc26fd-80b6-4f41-bb39-8aae6a76ebc2",
   "metadata": {},
   "outputs": [
    {
     "name": "stdin",
     "output_type": "stream",
     "text": [
      " 1\n",
      " 1\n",
      " 1\n",
      " 3\n"
     ]
    },
    {
     "name": "stdout",
     "output_type": "stream",
     "text": [
      "[[0, 0, 0], [0, 0, 1], [0, 1, 0], [0, 1, 1], [1, 0, 0], [1, 0, 1], [1, 1, 0]]\n"
     ]
    }
   ],
   "source": [
    "#1.List Comprehensions(regular)\n",
    "if __name__ == '__main__':\n",
    "    x = int(input())\n",
    "    y = int(input())\n",
    "    z = int(input())\n",
    "    n = int(input())\n",
    "#from here    \n",
    "list1=[]\n",
    "for i in range(x+1):\n",
    "    for j in range(y+1):\n",
    "        for k in range(z+1):\n",
    "            if(i+j+k)!=n:\n",
    "                list1.append([i,j,k])\n",
    "print(list1)\n",
    "    "
   ]
  },
  {
   "cell_type": "code",
   "execution_count": 15,
   "id": "05ddc8f3-25cd-4929-946a-bede72d444f4",
   "metadata": {},
   "outputs": [
    {
     "name": "stdin",
     "output_type": "stream",
     "text": [
      " 5\n",
      " insert 0 5\n",
      " insert 1 4\n",
      " append 3\n",
      " sort \n",
      " print\n"
     ]
    },
    {
     "name": "stdout",
     "output_type": "stream",
     "text": [
      "[3, 4, 5]\n"
     ]
    }
   ],
   "source": [
    "# 2.Lists\n",
    "if __name__ == '__main__':\n",
    "    N = int(input())\n",
    "    command = []\n",
    "    result = []  # Initialize result as an empty list\n",
    "    for i in range(N):\n",
    "        command.append(input().split())\n",
    "\n",
    "    # From here\n",
    "    for cmd in command:\n",
    "        if cmd[0] == \"insert\":\n",
    "            result.insert(int(cmd[1]), int(cmd[2]))\n",
    "        elif cmd[0] == \"print\":\n",
    "            print(result)\n",
    "        elif cmd[0] == \"remove\":\n",
    "            result.remove(int(cmd[1]))\n",
    "        elif cmd[0] == \"append\":\n",
    "            result.append(int(cmd[1]))\n",
    "        elif cmd[0] == \"sort\":\n",
    "            result.sort()\n",
    "        elif cmd[0] == \"pop\":\n",
    "            result.pop()\n",
    "        elif cmd[0] == \"reverse\":\n",
    "            result.reverse()\n"
   ]
  },
  {
   "cell_type": "code",
   "execution_count": 24,
   "id": "b2488924-6cf2-4d37-a9f2-09fdb36b5194",
   "metadata": {},
   "outputs": [
    {
     "name": "stdin",
     "output_type": "stream",
     "text": [
      " 3\n",
      " a\n",
      " 3\n",
      " b\n",
      " 4\n",
      " v\n",
      " 6\n"
     ]
    },
    {
     "name": "stdout",
     "output_type": "stream",
     "text": [
      "b\n"
     ]
    }
   ],
   "source": [
    "#3.Nested Lists(second lowest)(regular)\n",
    "if __name__ == '__main__':\n",
    "    lis = []\n",
    "    for _ in range(int(input())):\n",
    "        name = input()\n",
    "        score = float(input())\n",
    "        lis.append([name, score])\n",
    "        #FROM HERE\n",
    "    scores = sorted(set([i[1] for i in lis]))\n",
    "    second_lowest = scores[1]\n",
    "    result = [i[0] for i in lis if i[1] == second_lowest]\n",
    "    for name in sorted(result):\n",
    "        print(name)\n"
   ]
  },
  {
   "cell_type": "code",
   "execution_count": 25,
   "id": "e4f05238-ecca-4b69-a3e8-74ace9853de4",
   "metadata": {},
   "outputs": [
    {
     "name": "stdin",
     "output_type": "stream",
     "text": [
      " hELLo\n"
     ]
    },
    {
     "name": "stdout",
     "output_type": "stream",
     "text": [
      "HellO\n"
     ]
    }
   ],
   "source": [
    "#4.swapcase(regular)(learn function)\n",
    "def swap_case(s):\n",
    "    #from here\n",
    "    swapped_string = \"\"\n",
    "    for char in s:\n",
    "        if char.islower():         \n",
    "            swapped_string += char.upper()\n",
    "        elif char.isupper():\n",
    "            swapped_string += char.lower()\n",
    "        else:      \n",
    "            swapped_string += char\n",
    "    return swapped_string\n",
    "\n",
    "if __name__ == '__main__':\n",
    "    s = input()\n",
    "    result = swap_case(s)\n",
    "    print(result)"
   ]
  },
  {
   "cell_type": "code",
   "execution_count": 26,
   "id": "a77f7ee2-fb60-468e-938e-c4d9ff19db81",
   "metadata": {},
   "outputs": [
    {
     "name": "stdin",
     "output_type": "stream",
     "text": [
      " ababcdcacdc\n",
      " cdc\n"
     ]
    },
    {
     "name": "stdout",
     "output_type": "stream",
     "text": [
      "2\n"
     ]
    }
   ],
   "source": [
    "#5.Find a string\n",
    "def count_substring(string, sub_string):\n",
    "    #FROM HERE\n",
    "    count=0\n",
    "    for i in range(len(string)-len(sub_string)+1):\n",
    "        if(string[i:i+len(sub_string)]==sub_string):\n",
    "            count=count+1\n",
    "        \n",
    "    return count\n",
    "\n",
    "if __name__ == '__main__':\n",
    "    string = input().strip()\n",
    "    sub_string = input().strip()\n",
    "    \n",
    "    count = count_substring(string, sub_string)\n",
    "    print(count)"
   ]
  },
  {
   "cell_type": "code",
   "execution_count": 57,
   "id": "f217b17f-8f26-4580-898a-d4bd229e65ac",
   "metadata": {},
   "outputs": [
    {
     "name": "stdin",
     "output_type": "stream",
     "text": [
      " 7 21\n"
     ]
    },
    {
     "name": "stdout",
     "output_type": "stream",
     "text": [
      "---------.|.---------\n",
      "------.|..|..|.------\n",
      "---.|..|..|..|..|.---\n",
      "-------WELCOME-------\n",
      "---.|..|..|..|..|.---\n",
      "------.|..|..|.------\n",
      "---------.|.---------\n"
     ]
    }
   ],
   "source": [
    "#6.Design a door mat\n",
    "n,m=input().split()\n",
    "c='|'\n",
    "v='.'\n",
    "n=int(n)\n",
    "m=int(m)\n",
    "#from here\n",
    "j=n//2-1\n",
    "for i in range(n):\n",
    " if i==n//2:\n",
    "  print('WELCOME'.center(m,'-'))\n",
    " else:\n",
    "  if i<n/2: \n",
    "   print(((v+c+v)*(2*i+1)).center(m,'-'))\n",
    "  else:\n",
    "   print(((v+c+v)*(2*j+1)).center(m,'-'))\n",
    "   j=j-1\n"
   ]
  },
  {
   "cell_type": "code",
   "execution_count": 31,
   "id": "c0f011b6-c3e6-4025-9f8e-17680a6bdff5",
   "metadata": {},
   "outputs": [
    {
     "name": "stdin",
     "output_type": "stream",
     "text": [
      " 3\n"
     ]
    },
    {
     "name": "stdout",
     "output_type": "stream",
     "text": [
      "----c----\n",
      "--c-b-c--\n",
      "c-b-a-b-c\n",
      "--c-b-c--\n",
      "----c----\n"
     ]
    }
   ],
   "source": [
    "#7.Alphabet Rangoli\n",
    "#from here\n",
    "def print_rangoli(size):\n",
    "    a = \"abcdefghijklmnopqrstuvwxyz\"\n",
    "    lines = []\n",
    "    for row in range(size):\n",
    "        print_ = \"-\".join(a[row:size])\n",
    "        lines.append(print_[::-1] + print_[1:])\n",
    "    width = len(lines[0])\n",
    "    \n",
    "    for row in range(size-1, 0, -1):\n",
    "        print(lines[row].center(width, '-'))\n",
    "        \n",
    "    for row in range(size):\n",
    "        print(lines[row].center(width, '-'))\n",
    "\n",
    "\n",
    "if __name__ == '__main__':\n",
    "    n = int(input())\n",
    "    #from here\n",
    "    print_rangoli(n)"
   ]
  },
  {
   "cell_type": "code",
   "execution_count": 47,
   "id": "e7c85e10-2b84-4042-8d0b-0edb09419ca9",
   "metadata": {},
   "outputs": [
    {
     "name": "stdin",
     "output_type": "stream",
     "text": [
      " qA2\n"
     ]
    },
    {
     "name": "stdout",
     "output_type": "stream",
     "text": [
      "True\n",
      "True\n",
      "True\n",
      "True\n",
      "True\n"
     ]
    }
   ],
   "source": [
    "#String Validator\n",
    "def pr(t):\n",
    " if t==1:\n",
    "  print(True)\n",
    " else:\n",
    "  print(False)\n",
    "if __name__=='__main__':\n",
    " s=input()\n",
    "    #FROM HERE\n",
    "print(any(c.isalnum()for c in s))\n",
    "print(any(c.isalpha()for c in s))\n",
    "print(any(c.isdigit()for c in s))\n",
    "print(any(c.isupper()for c in s))\n",
    "print(any(c.islower()for c in s))\n",
    "\n"
   ]
  },
  {
   "cell_type": "code",
   "execution_count": 33,
   "id": "fa19e602-469a-4e95-8de9-3c5c3c081189",
   "metadata": {},
   "outputs": [],
   "source": [
    "#Additional Programs"
   ]
  },
  {
   "cell_type": "code",
   "execution_count": 34,
   "id": "5b0be77c-a357-4d01-874c-d16cfd0c5aab",
   "metadata": {},
   "outputs": [
    {
     "name": "stdin",
     "output_type": "stream",
     "text": [
      " 3 2\n",
      " 1 5 3 \n",
      " 3 1\n",
      " 5 7\n"
     ]
    },
    {
     "name": "stdout",
     "output_type": "stream",
     "text": [
      "1\n"
     ]
    }
   ],
   "source": [
    "#1.No Idea(additional)\n",
    "n, m = map(int, input().split())\n",
    "#from here\n",
    "array = list(map(int, input().split()))\n",
    "set_a = set(map(int, input().split()))\n",
    "set_b = set(map(int, input().split()))\n",
    "happiness = 0\n",
    "for number in array:\n",
    "    if number in set_a:\n",
    "        happiness += 1\n",
    "    elif number in set_b:\n",
    "        happiness -= 1\n",
    "print(happiness)\n"
   ]
  },
  {
   "cell_type": "code",
   "execution_count": 56,
   "id": "d989342c-c241-4f09-a7e7-32bb09c5d522",
   "metadata": {},
   "outputs": [
    {
     "name": "stdin",
     "output_type": "stream",
     "text": [
      " 4\n",
      " ab\n",
      " cd\n",
      " cd\n",
      " ab\n"
     ]
    },
    {
     "name": "stdout",
     "output_type": "stream",
     "text": [
      "2\n",
      "2 2\n"
     ]
    }
   ],
   "source": [
    "#2.word order\n",
    "from collections import OrderedDict\n",
    "d=OrderedDict()\n",
    "n=int(input())\n",
    "for i in range(n):\n",
    "    #from here\n",
    " s=input()\n",
    " if s in d.keys():\n",
    "  d[s]+=1\n",
    " else:\n",
    "  d[s]=1\n",
    "print(len(d.keys()))\n",
    "print(' '.join([str(d[k])for k in d.keys()]))\n",
    "\n",
    "        \n"
   ]
  },
  {
   "cell_type": "code",
   "execution_count": 42,
   "id": "e8b917ba-40dd-4fb0-a20a-033099e2d8ad",
   "metadata": {},
   "outputs": [
    {
     "name": "stdin",
     "output_type": "stream",
     "text": [
      " 5\n",
      " 1 2 3 4 5\n"
     ]
    },
    {
     "name": "stdout",
     "output_type": "stream",
     "text": [
      "4\n"
     ]
    }
   ],
   "source": [
    "#3.Runner up Score\n",
    "if __name__=='__main__':\n",
    "    n=int(input())\n",
    "    arr=map(int,input().split())\n",
    "    #from here\n",
    "    print(sorted(set(arr))[-2])\n"
   ]
  },
  {
   "cell_type": "code",
   "execution_count": 45,
   "id": "d93f11f3-d357-4fc8-9b75-390fb6e086cb",
   "metadata": {},
   "outputs": [
    {
     "name": "stdin",
     "output_type": "stream",
     "text": [
      " BANANA\n"
     ]
    },
    {
     "name": "stdout",
     "output_type": "stream",
     "text": [
      "Stuart 12\n"
     ]
    }
   ],
   "source": [
    "#4.minion game(learnfunction)\n",
    "def minion_game(string):\n",
    "    n = len(string)\n",
    "    count_k = 0\n",
    "    count_s = 0\n",
    "\n",
    "    for i in range(n):\n",
    "        if string[i] in \"AEIOU\":\n",
    "            count_k += n - i  # Count substrings starting with a vowel\n",
    "        else:\n",
    "            count_s += n - i  # Count substrings starting with a consonant\n",
    "\n",
    "    if count_k > count_s:\n",
    "        print(\"Kevin\", count_k)\n",
    "    elif count_s > count_k:\n",
    "        print(\"Stuart\", count_s)\n",
    "    else:\n",
    "        print(\"Draw\")\n",
    "\n",
    "if __name__ == '__main__':\n",
    "    s = input()\n",
    "    minion_game(s)"
   ]
  },
  {
   "cell_type": "code",
   "execution_count": null,
   "id": "bc6199d1-33d4-4eb0-9074-d4a4c75455ab",
   "metadata": {},
   "outputs": [],
   "source": []
  }
 ],
 "metadata": {
  "kernelspec": {
   "display_name": "Python 3 (ipykernel)",
   "language": "python",
   "name": "python3"
  },
  "language_info": {
   "codemirror_mode": {
    "name": "ipython",
    "version": 3
   },
   "file_extension": ".py",
   "mimetype": "text/x-python",
   "name": "python",
   "nbconvert_exporter": "python",
   "pygments_lexer": "ipython3",
   "version": "3.11.7"
  }
 },
 "nbformat": 4,
 "nbformat_minor": 5
}
